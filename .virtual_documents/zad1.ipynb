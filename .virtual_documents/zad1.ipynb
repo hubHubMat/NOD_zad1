# 1. ladowanie biblioteki Pandas
#zaimportuj modu l pyplot z biblioteki matplotlib
import pandas as pd
import matplotlib.pyplot as plt


# 2. tworzenie ramki danych ze s lownika
data = {'Name': ['Anna', 'Bob', 'Charles'],
        'Age': [23, 35, 45],
        'City': ['Warsaw', 'Berlin', 'Paris']}
df = pd.DataFrame(data)


# 3. zachowanie ramki danych pobranych z pliku w formacie csv (xlsx)
df.to_csv('data.csv', index=False)
df.to_excel('data.xlsx', index=False)


# 4. tworzenie ramki danych z listy list
data = [['Anna', 23, 'Warsaw'], ['Bob', 35, 'Berlin'], ['Charles', 45, 'Paris']]
df = pd.DataFrame(data, columns=['Name', 'Age', 'City'])


# 5. transponowanie (wymieniamy kolumny a wierszy)
df_transposed = df.T


# 6. wy´swietli´c pierwsze 10 wierszy ramki danych
print(df.head(10))


# 7. wy´swietli´c ostatnie 10 wierszy ramki danych
print(df.tail(10))


# 8. wy´swietli´c informacje˛ o ramce danych
print(df.info())


# 9. wy´swietli´c, ile wierszy i kolumn znajduje sie˛ w ramce danych
print(df.shape)


# 10. wy´swietli´c informacje˛ statystyczna˛ o kolumnach liczbowych (warto´sci
#niepowtarzalne, ´srednia, odchylenie standardowe, minimum, kwartyle,
#maksimum)

print(df.describe())


# 11. wy´swietli´c informacje˛ statystyczna˛ o kolumnach kategoryzowanych (ile
#unikalnych warto´sci, top - jaka jest najpopularniejsza warto´s´c, freq -
#jak cze˛sto najpopularniejsza)

print(df['City'].value_counts())
print(df['City'].describe())


# 12. usuna˛´c brakuja˛ce warto´sci w ramce danych
df_cleaned = df.dropna()


# 13. • przedstawi´c wyb´or wierszy i kolumny u˙zywaja˛c nazw oraz indeks´ow na
#r´o˙zne sposoby
print(df.iloc[0:2, 0:2])
print(df[df['Age'] > 30])


# 14. przedstawi´c wyb´or wierszy z ramki danych pod warunkiem odno´snie
#okre´slonej warto´sci kolumny
print(df[(df['Age'] > 30) & (df['City'] == 'Berlin')])


# 15. przedstawi´c wyb´or wierszy z ramki danych pod warunkiem spe lnienia
#kilku warunk´ow jednocze´snie
print(df[df['City'].str.contains('Warsaw')])


# 16. wybra´c wiersze kt´ore zawieraja˛ w kolumnie kategoryzowanej okre´slones lowo
print(df[~df['City'].str.contains('Warsaw')])


# 17. utw´orz kolumne˛ na podstawie istnieja˛cyn
df['Age_in_5_years'] = df['Age'] + 5


# 18.  usu´n kolumne˛
df.drop(columns=['Age_in_5_years'], inplace=True)


# 19.  zmie´n nazwe˛ kolumny
df.rename(columns={'Name': 'Full Name'}, inplace=True)


# 20. zachowaj ramke˛ danych jako plik csv na komputerze
df.to_csv('new_data.csv', index=False)


# 21. wy´swietli´c ´srednia (maksymalna˛, minimalna˛) warto´s´c z jednej kolumny
print(df['Age'].mean())
print(df['Age'].max())
print(df['Age'].min())


# 22. wy´swietli´c liczbe˛ wierszy
print(len(df))


# 23. wy´swietli´c warto´sci unikatowe w kolumnie
print(df['City'].unique())


# 24. wy´swietli´c liczby rekord´ow odpowiadaja˛cych do warto´sci
print(df['City'].value_counts())


# 25. • sortowanie wierszy ramki danych wed lug warto´sci okre´slonej kolumny
#(maleja˛co, rosna˛co)
df_sorted = df.sort_values(by='Age', ascending=True)
df_sorted_desc = df.sort_values(by='Age', ascending=False)


# 26. wy´swietli´c wierszy dla 10 najwie˛kszych (najmniejszych) warto´sci okre´slonej kolumny
print(df.nlargest(10, 'Age'))
print(df.nsmallest(10, 'Age'))


# 27. wy´swietli´c wierszy dla 10 najwie˛kszych warto´sci okre´slonej kolumny
#pod warunkiem okre´slonych warto´sci innej kolumny
print(df[df['City'] == 'Berlin'].nlargest(10, 'Age'))


# 28. grupowanie wierszy wedlug warto´sci kolumny kategoryzowanej, potem
#- u´srednienie warto´sci wszystkich kolumn w grupie - MultiIndex
grouped = df.groupby('City').mean(numeric_only=True)  # Use numeric_only=True to avoid issues with non-numeric columns
print(grouped)


# 29. grupowanie wierszy wedlug warto´sci kolumny kategoryzowanej, potem
#- u´srednienie warto´sci dla pewnych kolumn, liczba warto´sci i mediana
#dla pozosta lych kolumn w grupach
grouped_agg = df.groupby('City').agg({
    'Age': ['mean', 'count'],
    'Full Name': ['max']
})
print(grouped_agg)


# 30. wy´swietli´c nazwy kolumn indeksu z lo˙zonego
print(grouped_agg.columns)


# 31. • sortowa´c kolumne˛ indeksu z lo˙zonego
grouped_agg = grouped_agg.sort_index(axis=1)
print(grouped_agg)


# 32. stworzy´c tabele˛ przystawna˛ (pivot table) na podstawie ramki danych
pivot = df.pivot_table(values='Age', index='City', aggfunc='mean')
print(pivot)


# 33. wy´swietli´c indeksy i kolumny tabeli przystawnej
print(pivot.index)
print(pivot.columns)


# 34.  utw´orz indeks z lo˙zony tabeli przystawnej i wy´swietl go
pivot_multi = df.pivot_table(values='Age', index=['City', 'Full Name'], aggfunc='mean')
print(pivot_multi)


# 37. wy´swietli´c wykres na podstawie tabeli przystawnej
pivot.plot(kind='bar')
plt.show()


# 38. narysowa´c histogram na podstawie warto´sci kolumny
df['Age'].plot(kind='hist')
plt.show()


# 39. przedstawi´c sposoby la˛czenia ramek danych za pomoca˛ metod merge i
#concat
df2 = pd.DataFrame({'Full Name': ['Anna', 'Bob'], 'Salary': [5000, 6000]})
merged_df = pd.merge(df, df2, on='Full Name')
concatenated_df = pd.concat([df, df2], axis=1)


# 40. pokaza´c dodawanie nowych kolumn za pomoca˛ operacji matematycznych
df['Double Age'] = df['Age'] * 2


# 41. przedstawi´c na przyk ladzie dodawanie nowych kolumn z pomoca˛ funkcji lambda
df['Age Squared'] = df['Age'].apply(lambda x: x**2)


# 42. • przedstawi´c mo˙zliwo´sci pracy z du˙zymi plikami przy u˙zyciu argumentu chunksize
chunk_size = 10000



