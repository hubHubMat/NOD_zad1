{
 "cells": [
  {
   "cell_type": "code",
   "execution_count": null,
   "id": "469cd17c-6bb2-4a4b-b96c-3764e3b5be4f",
   "metadata": {},
   "outputs": [],
   "source": [
    "# 1. ladowanie biblioteki Pandas\n",
    "#zaimportuj modu l pyplot z biblioteki matplotlib\n",
    "import pandas as pd\n",
    "import matplotlib.pyplot as plt"
   ]
  },
  {
   "cell_type": "code",
   "execution_count": 2,
   "id": "def2cfc6-683e-4f59-a9da-e47d02bf5de6",
   "metadata": {},
   "outputs": [],
   "source": [
    "# 2. tworzenie ramki danych ze s lownika\n",
    "data = {'Name': ['Anna', 'Bob', 'Charles'],\n",
    "        'Age': [23, 35, 45],\n",
    "        'City': ['Warsaw', 'Berlin', 'Paris']}\n",
    "df = pd.DataFrame(data)"
   ]
  },
  {
   "cell_type": "code",
   "execution_count": 3,
   "id": "94c21314-b4c4-4b40-bc4d-a676cf08ea7a",
   "metadata": {},
   "outputs": [],
   "source": [
    "# 3. zachowanie ramki danych pobranych z pliku w formacie csv (xlsx)\n",
    "df.to_csv('data.csv', index=False)\n",
    "df.to_excel('data.xlsx', index=False)"
   ]
  },
  {
   "cell_type": "code",
   "execution_count": 4,
   "id": "80e02f3a-7134-4c1d-b4e8-6218b05f5c8e",
   "metadata": {},
   "outputs": [],
   "source": [
    "# 4. tworzenie ramki danych z listy list\n",
    "data = [['Anna', 23, 'Warsaw'], ['Bob', 35, 'Berlin'], ['Charles', 45, 'Paris']]\n",
    "df = pd.DataFrame(data, columns=['Name', 'Age', 'City'])"
   ]
  },
  {
   "cell_type": "code",
   "execution_count": 5,
   "id": "c48abb9a-83aa-48ff-bdae-875dcc58d235",
   "metadata": {},
   "outputs": [],
   "source": [
    "# 5. transponowanie (wymieniamy kolumny a wierszy)\n",
    "df_transposed = df.T"
   ]
  },
  {
   "cell_type": "code",
   "execution_count": 6,
   "id": "bc2d5625-627d-4e85-aec6-1ec5d3079a57",
   "metadata": {},
   "outputs": [
    {
     "name": "stdout",
     "output_type": "stream",
     "text": [
      "      Name  Age    City\n",
      "0     Anna   23  Warsaw\n",
      "1      Bob   35  Berlin\n",
      "2  Charles   45   Paris\n"
     ]
    }
   ],
   "source": [
    "# 6. wy´swietli´c pierwsze 10 wierszy ramki danych\n",
    "print(df.head(10))"
   ]
  },
  {
   "cell_type": "code",
   "execution_count": 7,
   "id": "9875aee6-30dc-4b0a-a9e6-71ab222da31e",
   "metadata": {},
   "outputs": [
    {
     "name": "stdout",
     "output_type": "stream",
     "text": [
      "      Name  Age    City\n",
      "0     Anna   23  Warsaw\n",
      "1      Bob   35  Berlin\n",
      "2  Charles   45   Paris\n"
     ]
    }
   ],
   "source": [
    "# 7. wy´swietli´c ostatnie 10 wierszy ramki danych\n",
    "print(df.tail(10))"
   ]
  },
  {
   "cell_type": "code",
   "execution_count": 8,
   "id": "7235c88d-8bca-4e97-8178-9fdf3b07436b",
   "metadata": {},
   "outputs": [
    {
     "name": "stdout",
     "output_type": "stream",
     "text": [
      "<class 'pandas.core.frame.DataFrame'>\n",
      "RangeIndex: 3 entries, 0 to 2\n",
      "Data columns (total 3 columns):\n",
      " #   Column  Non-Null Count  Dtype \n",
      "---  ------  --------------  ----- \n",
      " 0   Name    3 non-null      object\n",
      " 1   Age     3 non-null      int64 \n",
      " 2   City    3 non-null      object\n",
      "dtypes: int64(1), object(2)\n",
      "memory usage: 204.0+ bytes\n",
      "None\n"
     ]
    }
   ],
   "source": [
    "# 8. wy´swietli´c informacje˛ o ramce danych\n",
    "print(df.info())"
   ]
  },
  {
   "cell_type": "code",
   "execution_count": 9,
   "id": "623b9819-ae34-4340-9884-1768c73652f8",
   "metadata": {},
   "outputs": [
    {
     "name": "stdout",
     "output_type": "stream",
     "text": [
      "(3, 3)\n"
     ]
    }
   ],
   "source": [
    "# 9. wy´swietli´c, ile wierszy i kolumn znajduje sie˛ w ramce danych\n",
    "print(df.shape)"
   ]
  },
  {
   "cell_type": "code",
   "execution_count": 10,
   "id": "6c7e06c8-4756-43b8-82b3-ee78103296af",
   "metadata": {},
   "outputs": [
    {
     "name": "stdout",
     "output_type": "stream",
     "text": [
      "             Age\n",
      "count   3.000000\n",
      "mean   34.333333\n",
      "std    11.015141\n",
      "min    23.000000\n",
      "25%    29.000000\n",
      "50%    35.000000\n",
      "75%    40.000000\n",
      "max    45.000000\n"
     ]
    }
   ],
   "source": [
    "# 10. wy´swietli´c informacje˛ statystyczna˛ o kolumnach liczbowych (warto´sci\n",
    "#niepowtarzalne, ´srednia, odchylenie standardowe, minimum, kwartyle,\n",
    "#maksimum)\n",
    "\n",
    "print(df.describe())"
   ]
  },
  {
   "cell_type": "code",
   "execution_count": 11,
   "id": "c6458db3-efe8-4f6d-a681-0a6c68f87738",
   "metadata": {},
   "outputs": [
    {
     "name": "stdout",
     "output_type": "stream",
     "text": [
      "City\n",
      "Warsaw    1\n",
      "Berlin    1\n",
      "Paris     1\n",
      "Name: count, dtype: int64\n",
      "count          3\n",
      "unique         3\n",
      "top       Warsaw\n",
      "freq           1\n",
      "Name: City, dtype: object\n"
     ]
    }
   ],
   "source": [
    "# 11. wy´swietli´c informacje˛ statystyczna˛ o kolumnach kategoryzowanych (ile\n",
    "#unikalnych warto´sci, top - jaka jest najpopularniejsza warto´s´c, freq -\n",
    "#jak cze˛sto najpopularniejsza)\n",
    "\n",
    "print(df['City'].value_counts())\n",
    "print(df['City'].describe())"
   ]
  },
  {
   "cell_type": "code",
   "execution_count": 12,
   "id": "fe55f282-fadd-4923-86b3-8194e680c18b",
   "metadata": {},
   "outputs": [],
   "source": [
    "# 12. usuna˛´c brakuja˛ce warto´sci w ramce danych\n",
    "df_cleaned = df.dropna()"
   ]
  },
  {
   "cell_type": "code",
   "execution_count": 13,
   "id": "dd0e565e-cd74-4cc9-814e-e872b7337edc",
   "metadata": {},
   "outputs": [
    {
     "name": "stdout",
     "output_type": "stream",
     "text": [
      "   Name  Age\n",
      "0  Anna   23\n",
      "1   Bob   35\n",
      "      Name  Age    City\n",
      "1      Bob   35  Berlin\n",
      "2  Charles   45   Paris\n"
     ]
    }
   ],
   "source": [
    "# 13. • przedstawi´c wyb´or wierszy i kolumny u˙zywaja˛c nazw oraz indeks´ow na\n",
    "#r´o˙zne sposoby\n",
    "print(df.iloc[0:2, 0:2])\n",
    "print(df[df['Age'] > 30])"
   ]
  },
  {
   "cell_type": "code",
   "execution_count": 14,
   "id": "94e93be6-e540-4d20-a550-bd28697194f6",
   "metadata": {},
   "outputs": [
    {
     "name": "stdout",
     "output_type": "stream",
     "text": [
      "  Name  Age    City\n",
      "1  Bob   35  Berlin\n"
     ]
    }
   ],
   "source": [
    "# 14. przedstawi´c wyb´or wierszy z ramki danych pod warunkiem odno´snie\n",
    "#okre´slonej warto´sci kolumny\n",
    "print(df[(df['Age'] > 30) & (df['City'] == 'Berlin')])"
   ]
  },
  {
   "cell_type": "code",
   "execution_count": 15,
   "id": "b1cf9190-f64e-4bc6-a70d-585e3a36de3f",
   "metadata": {},
   "outputs": [
    {
     "name": "stdout",
     "output_type": "stream",
     "text": [
      "   Name  Age    City\n",
      "0  Anna   23  Warsaw\n"
     ]
    }
   ],
   "source": [
    "# 15. przedstawi´c wyb´or wierszy z ramki danych pod warunkiem spe lnienia\n",
    "#kilku warunk´ow jednocze´snie\n",
    "print(df[df['City'].str.contains('Warsaw')])"
   ]
  },
  {
   "cell_type": "code",
   "execution_count": 16,
   "id": "d85d252f-27f2-4a92-bb5f-9200b8d1442b",
   "metadata": {},
   "outputs": [
    {
     "name": "stdout",
     "output_type": "stream",
     "text": [
      "      Name  Age    City\n",
      "1      Bob   35  Berlin\n",
      "2  Charles   45   Paris\n"
     ]
    }
   ],
   "source": [
    "# 16. wybra´c wiersze kt´ore zawieraja˛ w kolumnie kategoryzowanej okre´slones lowo\n",
    "print(df[~df['City'].str.contains('Warsaw')])"
   ]
  },
  {
   "cell_type": "code",
   "execution_count": 17,
   "id": "9ea40748-4587-497b-adb3-49f866d1a697",
   "metadata": {},
   "outputs": [],
   "source": [
    "# 17. utw´orz kolumne˛ na podstawie istnieja˛cyn\n",
    "df['Age_in_5_years'] = df['Age'] + 5"
   ]
  },
  {
   "cell_type": "code",
   "execution_count": 18,
   "id": "93d5b5de-cbad-4bd2-a0ae-4f2b21cb245a",
   "metadata": {},
   "outputs": [],
   "source": [
    "# 18.  usu´n kolumne˛\n",
    "df.drop(columns=['Age_in_5_years'], inplace=True)"
   ]
  },
  {
   "cell_type": "code",
   "execution_count": 19,
   "id": "e7502af4-0846-4ce8-852c-619d4eee73e1",
   "metadata": {},
   "outputs": [],
   "source": [
    "# 19.  zmie´n nazwe˛ kolumny\n",
    "df.rename(columns={'Name': 'Full Name'}, inplace=True)"
   ]
  },
  {
   "cell_type": "code",
   "execution_count": 20,
   "id": "8adc4359-5321-428e-8448-13ec3233ded7",
   "metadata": {},
   "outputs": [],
   "source": [
    "# 20. zachowaj ramke˛ danych jako plik csv na komputerze\n",
    "df.to_csv('new_data.csv', index=False)"
   ]
  },
  {
   "cell_type": "code",
   "execution_count": 21,
   "id": "3bdfd824-2a66-4800-a830-d85e95da8b2f",
   "metadata": {},
   "outputs": [
    {
     "name": "stdout",
     "output_type": "stream",
     "text": [
      "34.333333333333336\n",
      "45\n",
      "23\n"
     ]
    }
   ],
   "source": [
    "# 21. wy´swietli´c ´srednia (maksymalna˛, minimalna˛) warto´s´c z jednej kolumny\n",
    "print(df['Age'].mean())\n",
    "print(df['Age'].max())\n",
    "print(df['Age'].min())"
   ]
  },
  {
   "cell_type": "code",
   "execution_count": 22,
   "id": "17752728-4469-4c0f-af51-ea84465d9e8c",
   "metadata": {},
   "outputs": [
    {
     "name": "stdout",
     "output_type": "stream",
     "text": [
      "3\n"
     ]
    }
   ],
   "source": [
    "# 22. wy´swietli´c liczbe˛ wierszy\n",
    "print(len(df))"
   ]
  },
  {
   "cell_type": "code",
   "execution_count": 23,
   "id": "5af62018-3d73-4b5e-8881-b937b6b80834",
   "metadata": {},
   "outputs": [
    {
     "name": "stdout",
     "output_type": "stream",
     "text": [
      "['Warsaw' 'Berlin' 'Paris']\n"
     ]
    }
   ],
   "source": [
    "# 23. wy´swietli´c warto´sci unikatowe w kolumnie\n",
    "print(df['City'].unique())"
   ]
  },
  {
   "cell_type": "code",
   "execution_count": 24,
   "id": "2517e1c4-4a28-4999-9965-d21658ed5560",
   "metadata": {},
   "outputs": [
    {
     "name": "stdout",
     "output_type": "stream",
     "text": [
      "City\n",
      "Warsaw    1\n",
      "Berlin    1\n",
      "Paris     1\n",
      "Name: count, dtype: int64\n"
     ]
    }
   ],
   "source": [
    "# 24. wy´swietli´c liczby rekord´ow odpowiadaja˛cych do warto´sci\n",
    "print(df['City'].value_counts())"
   ]
  },
  {
   "cell_type": "code",
   "execution_count": 25,
   "id": "3d70b582-bad4-46a1-bd46-84c52f63ed75",
   "metadata": {},
   "outputs": [],
   "source": [
    "# 25. • sortowanie wierszy ramki danych wed lug warto´sci okre´slonej kolumny\n",
    "#(maleja˛co, rosna˛co)\n",
    "df_sorted = df.sort_values(by='Age', ascending=True)\n",
    "df_sorted_desc = df.sort_values(by='Age', ascending=False)"
   ]
  },
  {
   "cell_type": "code",
   "execution_count": 26,
   "id": "e606a152-f4cf-4688-82fc-3af308e808a6",
   "metadata": {},
   "outputs": [
    {
     "name": "stdout",
     "output_type": "stream",
     "text": [
      "  Full Name  Age    City\n",
      "2   Charles   45   Paris\n",
      "1       Bob   35  Berlin\n",
      "0      Anna   23  Warsaw\n",
      "  Full Name  Age    City\n",
      "0      Anna   23  Warsaw\n",
      "1       Bob   35  Berlin\n",
      "2   Charles   45   Paris\n"
     ]
    }
   ],
   "source": [
    "# 26. wy´swietli´c wierszy dla 10 najwie˛kszych (najmniejszych) warto´sci okre´slonej kolumny\n",
    "print(df.nlargest(10, 'Age'))\n",
    "print(df.nsmallest(10, 'Age'))"
   ]
  },
  {
   "cell_type": "code",
   "execution_count": 27,
   "id": "a6d392b2-f721-4c5f-a46c-e36db1596d96",
   "metadata": {},
   "outputs": [
    {
     "name": "stdout",
     "output_type": "stream",
     "text": [
      "  Full Name  Age    City\n",
      "1       Bob   35  Berlin\n"
     ]
    }
   ],
   "source": [
    "# 27. wy´swietli´c wierszy dla 10 najwie˛kszych warto´sci okre´slonej kolumny\n",
    "#pod warunkiem okre´slonych warto´sci innej kolumny\n",
    "print(df[df['City'] == 'Berlin'].nlargest(10, 'Age'))"
   ]
  },
  {
   "cell_type": "code",
   "execution_count": 28,
   "id": "6e0e9310-e33c-4a8c-b3f9-82eab5ea8697",
   "metadata": {},
   "outputs": [
    {
     "name": "stdout",
     "output_type": "stream",
     "text": [
      "         Age\n",
      "City        \n",
      "Berlin  35.0\n",
      "Paris   45.0\n",
      "Warsaw  23.0\n"
     ]
    }
   ],
   "source": [
    "# 28. grupowanie wierszy wedlug warto´sci kolumny kategoryzowanej, potem\n",
    "#- u´srednienie warto´sci wszystkich kolumn w grupie - MultiIndex\n",
    "grouped = df.groupby('City').mean(numeric_only=True)  # Use numeric_only=True to avoid issues with non-numeric columns\n",
    "print(grouped)"
   ]
  },
  {
   "cell_type": "code",
   "execution_count": 29,
   "id": "28744c96-bd2a-4f8a-b3b8-a991ba7eb3e0",
   "metadata": {},
   "outputs": [
    {
     "name": "stdout",
     "output_type": "stream",
     "text": [
      "         Age       Full Name\n",
      "        mean count       max\n",
      "City                        \n",
      "Berlin  35.0     1       Bob\n",
      "Paris   45.0     1   Charles\n",
      "Warsaw  23.0     1      Anna\n"
     ]
    }
   ],
   "source": [
    "# 29. grupowanie wierszy wedlug warto´sci kolumny kategoryzowanej, potem\n",
    "#- u´srednienie warto´sci dla pewnych kolumn, liczba warto´sci i mediana\n",
    "#dla pozosta lych kolumn w grupach\n",
    "grouped_agg = df.groupby('City').agg({\n",
    "    'Age': ['mean', 'count'],\n",
    "    'Full Name': ['max']\n",
    "})\n",
    "print(grouped_agg)"
   ]
  },
  {
   "cell_type": "code",
   "execution_count": 30,
   "id": "bfe9abbc-f0be-43d2-9c34-351c794182e1",
   "metadata": {},
   "outputs": [
    {
     "name": "stdout",
     "output_type": "stream",
     "text": [
      "MultiIndex([(      'Age',  'mean'),\n",
      "            (      'Age', 'count'),\n",
      "            ('Full Name',   'max')],\n",
      "           )\n"
     ]
    }
   ],
   "source": [
    "# 30. wy´swietli´c nazwy kolumn indeksu z lo˙zonego\n",
    "print(grouped_agg.columns)"
   ]
  },
  {
   "cell_type": "code",
   "execution_count": 31,
   "id": "6da6d8cd-6428-4793-b9eb-81949a35ea5d",
   "metadata": {},
   "outputs": [
    {
     "name": "stdout",
     "output_type": "stream",
     "text": [
      "         Age       Full Name\n",
      "       count  mean       max\n",
      "City                        \n",
      "Berlin     1  35.0       Bob\n",
      "Paris      1  45.0   Charles\n",
      "Warsaw     1  23.0      Anna\n"
     ]
    }
   ],
   "source": [
    "# 31. • sortowa´c kolumne˛ indeksu z lo˙zonego\n",
    "grouped_agg = grouped_agg.sort_index(axis=1)\n",
    "print(grouped_agg)"
   ]
  },
  {
   "cell_type": "code",
   "execution_count": 32,
   "id": "6dd4ce0f-6d8d-4d5f-8bfc-13cd4ca76093",
   "metadata": {},
   "outputs": [
    {
     "name": "stdout",
     "output_type": "stream",
     "text": [
      "         Age\n",
      "City        \n",
      "Berlin  35.0\n",
      "Paris   45.0\n",
      "Warsaw  23.0\n"
     ]
    }
   ],
   "source": [
    "# 32. stworzy´c tabele˛ przystawna˛ (pivot table) na podstawie ramki danych\n",
    "pivot = df.pivot_table(values='Age', index='City', aggfunc='mean')\n",
    "print(pivot)"
   ]
  },
  {
   "cell_type": "code",
   "execution_count": 33,
   "id": "769930b1-efa3-4109-b906-ad550a534ab3",
   "metadata": {},
   "outputs": [
    {
     "name": "stdout",
     "output_type": "stream",
     "text": [
      "Index(['Berlin', 'Paris', 'Warsaw'], dtype='object', name='City')\n",
      "Index(['Age'], dtype='object')\n"
     ]
    }
   ],
   "source": [
    "# 33. wy´swietli´c indeksy i kolumny tabeli przystawnej\n",
    "print(pivot.index)\n",
    "print(pivot.columns)"
   ]
  },
  {
   "cell_type": "code",
   "execution_count": 34,
   "id": "76386699-d71e-4288-b456-20bf2cbd8cdb",
   "metadata": {},
   "outputs": [
    {
     "name": "stdout",
     "output_type": "stream",
     "text": [
      "                   Age\n",
      "City   Full Name      \n",
      "Berlin Bob        35.0\n",
      "Paris  Charles    45.0\n",
      "Warsaw Anna       23.0\n"
     ]
    }
   ],
   "source": [
    "# 34.  utw´orz indeks z lo˙zony tabeli przystawnej i wy´swietl go\n",
    "pivot_multi = df.pivot_table(values='Age', index=['City', 'Full Name'], aggfunc='mean')\n",
    "print(pivot_multi)"
   ]
  },
  {
   "cell_type": "code",
   "execution_count": 35,
   "id": "6e30e213-c698-43f1-b5f0-d88eee769891",
   "metadata": {},
   "outputs": [
    {
     "data": {
      "image/png": "[encoded data removed]",
      "text/plain": [
       "<Figure size 640x480 with 1 Axes>"
      ]
     },
     "metadata": {},
     "output_type": "display_data"
    }
   ],
   "source": [
    "# 37. wy´swietli´c wykres na podstawie tabeli przystawnej\n",
    "pivot.plot(kind='bar')\n",
    "plt.show()"
   ]
  },
  {
   "cell_type": "code",
   "execution_count": 36,
   "id": "92be7813-ec2e-4e7b-a392-599685ef15b4",
   "metadata": {},
   "outputs": [
    {
     "data": {
      "image/png": "[encoded data removed]",
      "text/plain": [
       "<Figure size 640x480 with 1 Axes>"
      ]
     },
     "metadata": {},
     "output_type": "display_data"
    }
   ],
   "source": [
    "# 38. narysowa´c histogram na podstawie warto´sci kolumny\n",
    "df['Age'].plot(kind='hist')\n",
    "plt.show()"
   ]
  },
  {
   "cell_type": "code",
   "execution_count": 37,
   "id": "08d4bfe3-f279-43a8-8cf7-e2af09ffdd8c",
   "metadata": {},
   "outputs": [],
   "source": [
    "# 39. przedstawi´c sposoby la˛czenia ramek danych za pomoca˛ metod merge i\n",
    "#concat\n",
    "df2 = pd.DataFrame({'Full Name': ['Anna', 'Bob'], 'Salary': [5000, 6000]})\n",
    "merged_df = pd.merge(df, df2, on='Full Name')\n",
    "concatenated_df = pd.concat([df, df2], axis=1)"
   ]
  },
  {
   "cell_type": "code",
   "execution_count": 38,
   "id": "a7d1c2ac-e4da-44b8-a2a5-2b79c3fba69b",
   "metadata": {},
   "outputs": [],
   "source": [
    "# 40. pokaza´c dodawanie nowych kolumn za pomoca˛ operacji matematycznych\n",
    "df['Double Age'] = df['Age'] * 2"
   ]
  },
  {
   "cell_type": "code",
   "execution_count": 39,
   "id": "849abee6-f694-4641-9a62-3d2a7eb98be3",
   "metadata": {},
   "outputs": [],
   "source": [
    "# 41. przedstawi´c na przyk ladzie dodawanie nowych kolumn z pomoca˛ funkcji lambda\n",
    "df['Age Squared'] = df['Age'].apply(lambda x: x**2)"
   ]
  },
  {
   "cell_type": "code",
   "execution_count": 40,
   "id": "6e09f532-b597-4940-b56c-3cb48e6e6b46",
   "metadata": {},
   "outputs": [],
   "source": [
    "# 42. • przedstawi´c mo˙zliwo´sci pracy z du˙zymi plikami przy u˙zyciu argumentu chunksize\n",
    "chunk_size = 10000"
   ]
  },
  {
   "cell_type": "code",
   "execution_count": null,
   "id": "1dd1c5f2-c369-4675-87bb-a92ac7fef4fd",
   "metadata": {},
   "outputs": [],
   "source": []
  }
 ],
 "metadata": {
  "kernelspec": {
   "display_name": "Python 3 (ipykernel)",
   "language": "python",
   "name": "python3"
  },
  "language_info": {
   "codemirror_mode": {
    "name": "ipython",
    "version": 3
   },
   "file_extension": ".py",
   "mimetype": "text/x-python",
   "name": "python",
   "nbconvert_exporter": "python",
   "pygments_lexer": "ipython3",
   "version": "3.12.7"
  }
 },
 "nbformat": 4,
 "nbformat_minor": 5
}
