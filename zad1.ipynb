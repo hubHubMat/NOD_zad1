{
 "cells": [
  {
   "cell_type": "code",
   "execution_count": 1,
   "id": "469cd17c-6bb2-4a4b-b96c-3764e3b5be4f",
   "metadata": {},
   "outputs": [],
   "source": [
    "# 1. ladowanie biblioteki Pandas\n",
    "#zaimportuj modu l pyplot z biblioteki matplotlib\n",
    "import pandas as pd\n",
    "import matplotlib.pyplot as plt"
   ]
  },
  {
   "cell_type": "code",
   "execution_count": 2,
   "id": "def2cfc6-683e-4f59-a9da-e47d02bf5de6",
   "metadata": {},
   "outputs": [],
   "source": [
    "# 2. tworzenie ramki danych ze s lownika\n",
    "data = {'Name': ['Anna', 'Bob', 'Charles'],\n",
    "        'Age': [23, 35, 45],\n",
    "        'City': ['Warsaw', 'Berlin', 'Paris']}\n",
    "df1 = pd.DataFrame(data)"
   ]
  },
  {
   "cell_type": "code",
   "execution_count": 3,
   "id": "94c21314-b4c4-4b40-bc4d-a676cf08ea7a",
   "metadata": {},
   "outputs": [],
   "source": [
    "# 3. zachowanie ramki danych pobranych z pliku w formacie csv (xlsx)\n",
    "df1.to_csv('data1.csv', index=False)\n",
    "df1.to_excel('data1.xlsx', index=False)"
   ]
  },
  {
   "cell_type": "code",
   "execution_count": 4,
   "id": "80e02f3a-7134-4c1d-b4e8-6218b05f5c8e",
   "metadata": {},
   "outputs": [],
   "source": [
    "# 4. tworzenie ramki danych z listy list\n",
    "data = [['Anna', 23, 'Warsaw'], ['Bob', 35, 'Berlin'], ['Charles', 45, 'Paris']]\n",
    "df2 = pd.DataFrame(data, columns=['Name', 'Age', 'City'])"
   ]
  },
  {
   "cell_type": "code",
   "execution_count": 5,
   "id": "deab5bdd-5f09-4b33-8f57-da0112b7617b",
   "metadata": {},
   "outputs": [],
   "source": [
    "df = pd.read_csv(\"data.csv\")"
   ]
  },
  {
   "cell_type": "code",
   "execution_count": 6,
   "id": "c48abb9a-83aa-48ff-bdae-875dcc58d235",
   "metadata": {},
   "outputs": [],
   "source": [
    "# 5. transponowanie (wymieniamy kolumny a wierszy)\n",
    "df_transposed = df.T"
   ]
  },
  {
   "cell_type": "code",
   "execution_count": 7,
   "id": "bc2d5625-627d-4e85-aec6-1ec5d3079a57",
   "metadata": {},
   "outputs": [
    {
     "name": "stdout",
     "output_type": "stream",
     "text": [
      "         observation_id               submitted_time  gender  \\\n",
      "0  wmn_4503683847159808  2020-07-09 23:19:01.982 UTC  Female   \n",
      "1  wmn_4503772699295744  2020-07-09 21:22:15.864 UTC  Female   \n",
      "2  wmn_4504010469146624  2020-07-10 05:09:07.359 UTC  Female   \n",
      "3  wmn_4504035500752896   2020-07-11 16:59:49.85 UTC  Female   \n",
      "4  wmn_4504181395423232  2020-07-11 18:43:35.954 UTC  Female   \n",
      "5  wmn_4504301990051840  2020-07-10 11:27:16.581 UTC  Female   \n",
      "6  wmn_4504322055602176  2020-07-09 20:43:11.055 UTC  Female   \n",
      "7  wmn_4504369904222208  2020-07-18 12:52:31.482 UTC  Female   \n",
      "8  wmn_4504469091123200  2020-07-16 16:03:44.066 UTC  Female   \n",
      "9  wmn_4504687899574272  2020-07-17 07:16:32.082 UTC  Female   \n",
      "\n",
      "                  age                         geography  \\\n",
      "0  26 to 35 years old  City center or metropolitan area   \n",
      "1  16 to 25 years old                             Rural   \n",
      "2  16 to 25 years old                             Rural   \n",
      "3  16 to 25 years old               Suburban/Peri-urban   \n",
      "4  26 to 35 years old               Suburban/Peri-urban   \n",
      "5  26 to 35 years old  City center or metropolitan area   \n",
      "6  16 to 25 years old  City center or metropolitan area   \n",
      "7  16 to 25 years old               Suburban/Peri-urban   \n",
      "8  36 to 45 years old  City center or metropolitan area   \n",
      "9  36 to 45 years old  City center or metropolitan area   \n",
      "\n",
      "                                 financial_situation              education  \\\n",
      "0          I cannot afford enough food for my family  College or university   \n",
      "1          I cannot afford enough food for my family  Secondary/high school   \n",
      "2                I can afford food, but nothing else  College or university   \n",
      "3  I can afford food and regular expenses, and bu...  College or university   \n",
      "4  I can afford food and regular expenses, and bu...  College or university   \n",
      "5  I can comfortably afford food, clothes, and fu...  College or university   \n",
      "6  I can afford food and regular expenses, and bu...  College or university   \n",
      "7          I cannot afford enough food for my family  College or university   \n",
      "8  I can afford food and regular expenses, but no...  College or university   \n",
      "9  I can afford food and regular expenses, but no...  College or university   \n",
      "\n",
      "    employment_status           ethnicity      religion  ...  \\\n",
      "0          Unemployed             Mestizo   Catholicism  ...   \n",
      "1             Student             Tagalog        Muslim  ...   \n",
      "2             Student          Hiligaynon  Christianity  ...   \n",
      "3          Unemployed                Thai      Buddhism  ...   \n",
      "4  Employed full-time             African  Christianity  ...   \n",
      "5  Employed full-time              Bisaya  Christianity  ...   \n",
      "6  Employed full-time             Tagalog  Christianity  ...   \n",
      "7             Student               Shona         Other  ...   \n",
      "8  Employed part-time               Serer        Muslim  ...   \n",
      "9       Self-employed  Non-hispanic White     Mormonism  ...   \n",
      "\n",
      "  wmn_pre_safe_place wmn_post_safe_place wmn_safe_place_no_access  \\\n",
      "0                NaN                 NaN                      NaN   \n",
      "1                NaN                 NaN                      NaN   \n",
      "2                NaN                 NaN                      NaN   \n",
      "3                NaN                 NaN                      NaN   \n",
      "4                NaN                 NaN                      NaN   \n",
      "5                NaN                 NaN                      NaN   \n",
      "6                NaN                 NaN                      NaN   \n",
      "7                NaN                 NaN                      NaN   \n",
      "8                NaN                 NaN                      NaN   \n",
      "9                NaN                 NaN                      NaN   \n",
      "\n",
      "  wmn_safe_place_no_access_why wmn_pre_help wmn_post_help wmn_post_no_help  \\\n",
      "0                          NaN          NaN           NaN              NaN   \n",
      "1                          NaN          NaN           NaN              NaN   \n",
      "2                          NaN          NaN           NaN              NaN   \n",
      "3                          NaN          NaN           NaN              NaN   \n",
      "4                          NaN          NaN           NaN              NaN   \n",
      "5                          NaN          NaN           NaN              NaN   \n",
      "6                          NaN          NaN           NaN              NaN   \n",
      "7                          NaN           No            No               No   \n",
      "8                          NaN          NaN           NaN              NaN   \n",
      "9                          NaN          NaN           NaN              NaN   \n",
      "\n",
      "  wmn_no_help_why                      country               user_id  \n",
      "0             NaN                      Ecuador  wmn_5900473574883328  \n",
      "1             NaN                  Philippines  wmn_5702261783658496  \n",
      "2             NaN                  Philippines  wmn_5652767014387712  \n",
      "3             NaN                     Thailand  wmn_6411372690669568  \n",
      "4             NaN  United Republic of Tanzania  wmn_6215734184378368  \n",
      "5             NaN                  Philippines  wmn_6132893427433472  \n",
      "6             NaN                  Philippines  wmn_5846766880817152  \n",
      "7             NaN                     Zimbabwe  wmn_5063488921927680  \n",
      "8             NaN                      Senegal  wmn_6660892420997120  \n",
      "9             NaN                United States  wmn_6376829706829824  \n",
      "\n",
      "[10 rows x 46 columns]\n"
     ]
    }
   ],
   "source": [
    "# 6. wy´swietli´c pierwsze 10 wierszy ramki danych\n",
    "print(df.head(10))"
   ]
  },
  {
   "cell_type": "code",
   "execution_count": 8,
   "id": "9875aee6-30dc-4b0a-a9e6-71ab222da31e",
   "metadata": {},
   "outputs": [
    {
     "name": "stdout",
     "output_type": "stream",
     "text": [
      "             observation_id               submitted_time  gender  \\\n",
      "12344  wmn_6752309616050176  2020-07-11 14:37:07.551 UTC  Female   \n",
      "12345  wmn_6752631872815104   2020-07-10 02:25:50.01 UTC  Female   \n",
      "12346  wmn_6752968893530112  2020-07-14 05:19:46.429 UTC  Female   \n",
      "12347  wmn_6753819934588928  2020-07-25 17:34:27.837 UTC  Female   \n",
      "12348  wmn_6753897143336960   2020-07-10 11:49:14.64 UTC  Female   \n",
      "12349  wmn_6754210441068544  2020-07-16 15:46:12.095 UTC  Female   \n",
      "12350  wmn_6754415891709952  2020-07-10 09:57:24.863 UTC  Female   \n",
      "12351  wmn_6754483574145024  2020-07-19 17:50:01.295 UTC  Female   \n",
      "12352  wmn_6755256899993600   2020-07-11 16:09:09.78 UTC  Female   \n",
      "12353  wmn_6755376524689408  2020-07-17 03:19:00.388 UTC  Female   \n",
      "\n",
      "                      age                         geography  \\\n",
      "12344  26 to 35 years old  City center or metropolitan area   \n",
      "12345  26 to 35 years old  City center or metropolitan area   \n",
      "12346  16 to 25 years old  City center or metropolitan area   \n",
      "12347  26 to 35 years old               Suburban/Peri-urban   \n",
      "12348  26 to 35 years old               Suburban/Peri-urban   \n",
      "12349  26 to 35 years old               Suburban/Peri-urban   \n",
      "12350  16 to 25 years old  City center or metropolitan area   \n",
      "12351  26 to 35 years old  City center or metropolitan area   \n",
      "12352  36 to 45 years old                             Rural   \n",
      "12353  26 to 35 years old  City center or metropolitan area   \n",
      "\n",
      "                                     financial_situation  \\\n",
      "12344  I can comfortably afford food, clothes, and fu...   \n",
      "12345  I can afford food and regular expenses, but no...   \n",
      "12346  I can afford food and regular expenses, and bu...   \n",
      "12347  I can afford food and regular expenses, but no...   \n",
      "12348  I can afford food and regular expenses, but no...   \n",
      "12349  I can afford food and regular expenses, but no...   \n",
      "12350  I can afford food and regular expenses, but no...   \n",
      "12351  I can afford food and regular expenses, but no...   \n",
      "12352  I can comfortably afford food, clothes, and fu...   \n",
      "12353  I can afford food and regular expenses, and bu...   \n",
      "\n",
      "                   education   employment_status           ethnicity  \\\n",
      "12344          Post graduate  Employed full-time             Mestizo   \n",
      "12345  College or university          Unemployed             Tagalog   \n",
      "12346  Secondary/high school  Employed full-time   Prefer not to say   \n",
      "12347  College or university          Unemployed  Non-hispanic White   \n",
      "12348       Technical school  Employed full-time              Bisaya   \n",
      "12349  College or university          Unemployed             African   \n",
      "12350  Secondary/high school       Self-employed                 Kru   \n",
      "12351       Technical school          Unemployed  Non-hispanic White   \n",
      "12352  College or university       Self-employed                Thai   \n",
      "12353  Secondary/high school  Employed full-time             Mestizo   \n",
      "\n",
      "                   religion  ... wmn_pre_safe_place wmn_post_safe_place  \\\n",
      "12344           Catholicism  ...                NaN                 NaN   \n",
      "12345                 Other  ...                NaN                 NaN   \n",
      "12346  Prefer Not To Answer  ...                NaN                 NaN   \n",
      "12347           Catholicism  ...                NaN                 NaN   \n",
      "12348          Christianity  ...                NaN                 NaN   \n",
      "12349                Muslim  ...                NaN                 NaN   \n",
      "12350           Catholicism  ...                NaN                 NaN   \n",
      "12351  Prefer Not To Answer  ...          Every day              Rarely   \n",
      "12352              Buddhism  ...                NaN                 NaN   \n",
      "12353           Catholicism  ...                NaN                 NaN   \n",
      "\n",
      "      wmn_safe_place_no_access wmn_safe_place_no_access_why wmn_pre_help  \\\n",
      "12344                      NaN                          NaN           No   \n",
      "12345                      NaN                          NaN          NaN   \n",
      "12346                      NaN                          NaN          NaN   \n",
      "12347                      NaN                          NaN           No   \n",
      "12348                      NaN                          NaN          NaN   \n",
      "12349                      NaN                          NaN          NaN   \n",
      "12350                      NaN                          NaN          NaN   \n",
      "12351                       No                          NaN          Yes   \n",
      "12352                      NaN                          NaN          NaN   \n",
      "12353                      NaN                          NaN          NaN   \n",
      "\n",
      "      wmn_post_help wmn_post_no_help    wmn_no_help_why  \\\n",
      "12344            No               No                NaN   \n",
      "12345           NaN              NaN                NaN   \n",
      "12346           NaN              NaN                NaN   \n",
      "12347            No               No                NaN   \n",
      "12348           NaN              NaN                NaN   \n",
      "12349           NaN              NaN                NaN   \n",
      "12350           NaN              NaN                NaN   \n",
      "12351           Yes              Yes  Decline to Answer   \n",
      "12352           NaN              NaN                NaN   \n",
      "12353           NaN              NaN                NaN   \n",
      "\n",
      "                           country               user_id  \n",
      "12344                     Colombia  wmn_6066645730066432  \n",
      "12345                  Philippines  wmn_6585690490929152  \n",
      "12346                     Colombia  wmn_5979825287462912  \n",
      "12347                United States  wmn_5447933365583872  \n",
      "12348                  Philippines  wmn_6192783355543552  \n",
      "12349  United Republic of Tanzania  wmn_6151550260215808  \n",
      "12350                  Ivory Coast  wmn_5222308327456768  \n",
      "12351                United States  wmn_4706368994148352  \n",
      "12352                     Thailand  wmn_6730228637892608  \n",
      "12353                      Ecuador  wmn_6585614141489152  \n",
      "\n",
      "[10 rows x 46 columns]\n"
     ]
    }
   ],
   "source": [
    "# 7. wy´swietli´c ostatnie 10 wierszy ramki danych\n",
    "print(df.tail(10))"
   ]
  },
  {
   "cell_type": "code",
   "execution_count": 9,
   "id": "7235c88d-8bca-4e97-8178-9fdf3b07436b",
   "metadata": {},
   "outputs": [
    {
     "name": "stdout",
     "output_type": "stream",
     "text": [
      "<class 'pandas.core.frame.DataFrame'>\n",
      "RangeIndex: 12354 entries, 0 to 12353\n",
      "Data columns (total 46 columns):\n",
      " #   Column                          Non-Null Count  Dtype  \n",
      "---  ------                          --------------  -----  \n",
      " 0   observation_id                  12354 non-null  object \n",
      " 1   submitted_time                  12354 non-null  object \n",
      " 2   gender                          12354 non-null  object \n",
      " 3   age                             12354 non-null  object \n",
      " 4   geography                       12354 non-null  object \n",
      " 5   financial_situation             12354 non-null  object \n",
      " 6   education                       12354 non-null  object \n",
      " 7   employment_status               12354 non-null  object \n",
      " 8   ethnicity                       12354 non-null  object \n",
      " 9   religion                        12354 non-null  object \n",
      " 10  wmn_hh                          12354 non-null  object \n",
      " 11  wmn_pregnancy_desire            12354 non-null  object \n",
      " 12  wmn_pregnancy_change            11351 non-null  object \n",
      " 13  wmn_pregnancy_change_how        3030 non-null   object \n",
      " 14  wmn_con                         12354 non-null  object \n",
      " 15  wmn_con_type                    5426 non-null   object \n",
      " 16  wmn_pre_con_access_difficulty   3460 non-null   object \n",
      " 17  wmn_pre_missed_dose_pills       186 non-null    object \n",
      " 18  wmn_pre_con_needed              3185 non-null   object \n",
      " 19  wmn_pre_con_accessed            1825 non-null   object \n",
      " 20  wmn_pre_injectable_missed       94 non-null     float64\n",
      " 21  wmn_pre_iud_missed              75 non-null     float64\n",
      " 22  wmn_pre_con_missed_why          437 non-null    object \n",
      " 23  wmn_pre_con_missed_why_other    34 non-null     object \n",
      " 24  wmn_post_con_access_difficulty  3460 non-null   object \n",
      " 25  wmn_post_missed_dose_pills      184 non-null    object \n",
      " 26  wmn_post_con_needed             3133 non-null   object \n",
      " 27  wmn_post_con_accessed           1825 non-null   object \n",
      " 28  wmn_post_injectable_missed      110 non-null    float64\n",
      " 29  wmn_post_iud_missed             60 non-null     float64\n",
      " 30  wmn_post_con_missed_why         443 non-null    object \n",
      " 31  wmn_post_con_missed_why_other   23 non-null     object \n",
      " 32  wmn_alone                       12354 non-null  object \n",
      " 33  wmn_how_safe                    5282 non-null   object \n",
      " 34  wmn_safe_change                 5282 non-null   object \n",
      " 35  wmn_safe_place                  5282 non-null   object \n",
      " 36  wmn_pre_safe_place              2795 non-null   object \n",
      " 37  wmn_post_safe_place             2795 non-null   object \n",
      " 38  wmn_safe_place_no_access        2795 non-null   object \n",
      " 39  wmn_safe_place_no_access_why    849 non-null    object \n",
      " 40  wmn_pre_help                    5282 non-null   object \n",
      " 41  wmn_post_help                   5282 non-null   object \n",
      " 42  wmn_post_no_help                5282 non-null   object \n",
      " 43  wmn_no_help_why                 848 non-null    object \n",
      " 44  country                         12354 non-null  object \n",
      " 45  user_id                         12354 non-null  object \n",
      "dtypes: float64(4), object(42)\n",
      "memory usage: 4.3+ MB\n",
      "None\n"
     ]
    }
   ],
   "source": [
    "# 8. wy´swietli´c informacje˛ o ramce danych\n",
    "print(df.info())"
   ]
  },
  {
   "cell_type": "code",
   "execution_count": 10,
   "id": "623b9819-ae34-4340-9884-1768c73652f8",
   "metadata": {},
   "outputs": [
    {
     "name": "stdout",
     "output_type": "stream",
     "text": [
      "(12354, 46)\n"
     ]
    }
   ],
   "source": [
    "# 9. wy´swietli´c, ile wierszy i kolumn znajduje sie˛ w ramce danych\n",
    "print(df.shape)"
   ]
  },
  {
   "cell_type": "code",
   "execution_count": 11,
   "id": "6c7e06c8-4756-43b8-82b3-ee78103296af",
   "metadata": {},
   "outputs": [
    {
     "name": "stdout",
     "output_type": "stream",
     "text": [
      "       wmn_pre_injectable_missed  wmn_pre_iud_missed  \\\n",
      "count                  94.000000        7.500000e+01   \n",
      "mean                  214.765957        1.033763e+07   \n",
      "std                  2062.634850        8.952644e+07   \n",
      "min                     0.000000        0.000000e+00   \n",
      "25%                     1.000000        1.000000e+00   \n",
      "50%                     2.000000        2.000000e+00   \n",
      "75%                     2.750000        3.000000e+00   \n",
      "max                 20000.000000        7.753217e+08   \n",
      "\n",
      "       wmn_post_injectable_missed  wmn_post_iud_missed  \n",
      "count                  110.000000         6.000000e+01  \n",
      "mean                   232.845455         1.292203e+07  \n",
      "std                   2418.242269         1.000936e+08  \n",
      "min                      0.000000         0.000000e+00  \n",
      "25%                      1.000000         1.000000e+00  \n",
      "50%                      2.000000         2.000000e+00  \n",
      "75%                      3.000000         3.000000e+00  \n",
      "max                  25365.000000         7.753217e+08  \n"
     ]
    }
   ],
   "source": [
    "# 10. wy´swietli´c informacje˛ statystyczna˛ o kolumnach liczbowych (warto´sci\n",
    "#niepowtarzalne, ´srednia, odchylenie standardowe, minimum, kwartyle,\n",
    "#maksimum)\n",
    "\n",
    "print(df.describe())"
   ]
  },
  {
   "cell_type": "code",
   "execution_count": 12,
   "id": "c6458db3-efe8-4f6d-a681-0a6c68f87738",
   "metadata": {},
   "outputs": [
    {
     "name": "stdout",
     "output_type": "stream",
     "text": [
      "gender\n",
      "Female                  12331\n",
      "Prefer not to answer       15\n",
      "Not Available               8\n",
      "Name: count, dtype: int64\n",
      "count      12354\n",
      "unique         3\n",
      "top       Female\n",
      "freq       12331\n",
      "Name: gender, dtype: object\n"
     ]
    }
   ],
   "source": [
    "# 11. wy´swietli´c informacje˛ statystyczna˛ o kolumnach kategoryzowanych (ile\n",
    "#unikalnych warto´sci, top - jaka jest najpopularniejsza warto´s´c, freq -\n",
    "#jak cze˛sto najpopularniejsza)\n",
    "\n",
    "print(df['gender'].value_counts())\n",
    "print(df['gender'].describe())"
   ]
  },
  {
   "cell_type": "code",
   "execution_count": 13,
   "id": "fe55f282-fadd-4923-86b3-8194e680c18b",
   "metadata": {},
   "outputs": [],
   "source": [
    "# 12. usuna˛´c brakuja˛ce warto´sci w ramce danych\n",
    "df_cleaned = df.dropna()"
   ]
  },
  {
   "cell_type": "code",
   "execution_count": 14,
   "id": "dd0e565e-cd74-4cc9-814e-e872b7337edc",
   "metadata": {},
   "outputs": [
    {
     "name": "stdout",
     "output_type": "stream",
     "text": [
      "          observation_id               submitted_time  gender  \\\n",
      "0   wmn_4503683847159808  2020-07-09 23:19:01.982 UTC  Female   \n",
      "1   wmn_4503772699295744  2020-07-09 21:22:15.864 UTC  Female   \n",
      "2   wmn_4504010469146624  2020-07-10 05:09:07.359 UTC  Female   \n",
      "3   wmn_4504035500752896   2020-07-11 16:59:49.85 UTC  Female   \n",
      "4   wmn_4504181395423232  2020-07-11 18:43:35.954 UTC  Female   \n",
      "5   wmn_4504301990051840  2020-07-10 11:27:16.581 UTC  Female   \n",
      "6   wmn_4504322055602176  2020-07-09 20:43:11.055 UTC  Female   \n",
      "7   wmn_4504369904222208  2020-07-18 12:52:31.482 UTC  Female   \n",
      "8   wmn_4504469091123200  2020-07-16 16:03:44.066 UTC  Female   \n",
      "9   wmn_4504687899574272  2020-07-17 07:16:32.082 UTC  Female   \n",
      "10  wmn_4504764873441280  2020-07-23 00:29:41.766 UTC  Female   \n",
      "\n",
      "                   age                         geography  \\\n",
      "0   26 to 35 years old  City center or metropolitan area   \n",
      "1   16 to 25 years old                             Rural   \n",
      "2   16 to 25 years old                             Rural   \n",
      "3   16 to 25 years old               Suburban/Peri-urban   \n",
      "4   26 to 35 years old               Suburban/Peri-urban   \n",
      "5   26 to 35 years old  City center or metropolitan area   \n",
      "6   16 to 25 years old  City center or metropolitan area   \n",
      "7   16 to 25 years old               Suburban/Peri-urban   \n",
      "8   36 to 45 years old  City center or metropolitan area   \n",
      "9   36 to 45 years old  City center or metropolitan area   \n",
      "10  16 to 25 years old                             Rural   \n",
      "\n",
      "                                  financial_situation              education  \\\n",
      "0           I cannot afford enough food for my family  College or university   \n",
      "1           I cannot afford enough food for my family  Secondary/high school   \n",
      "2                 I can afford food, but nothing else  College or university   \n",
      "3   I can afford food and regular expenses, and bu...  College or university   \n",
      "4   I can afford food and regular expenses, and bu...  College or university   \n",
      "5   I can comfortably afford food, clothes, and fu...  College or university   \n",
      "6   I can afford food and regular expenses, and bu...  College or university   \n",
      "7           I cannot afford enough food for my family  College or university   \n",
      "8   I can afford food and regular expenses, but no...  College or university   \n",
      "9   I can afford food and regular expenses, but no...  College or university   \n",
      "10                I can afford food, but nothing else       Technical school   \n",
      "\n",
      "     employment_status           ethnicity       religion wmn_hh  \n",
      "0           Unemployed             Mestizo    Catholicism      3  \n",
      "1              Student             Tagalog         Muslim     13  \n",
      "2              Student          Hiligaynon   Christianity      5  \n",
      "3           Unemployed                Thai       Buddhism      7  \n",
      "4   Employed full-time             African   Christianity      3  \n",
      "5   Employed full-time              Bisaya   Christianity      4  \n",
      "6   Employed full-time             Tagalog   Christianity     10  \n",
      "7              Student               Shona          Other      6  \n",
      "8   Employed part-time               Serer         Muslim     11  \n",
      "9        Self-employed  Non-hispanic White      Mormonism      2  \n",
      "10  Employed full-time             Pashtun  Muslim (Shia)     11  \n"
     ]
    }
   ],
   "source": [
    "# 13. • przedstawi´c wyb´or wierszy i kolumny u˙zywaja˛c nazw oraz indeks´ow na\n",
    "#r´o˙zne sposoby\n",
    "print(df.iloc[0:11, 0:11])"
   ]
  },
  {
   "cell_type": "code",
   "execution_count": 15,
   "id": "94e93be6-e540-4d20-a550-bd28697194f6",
   "metadata": {},
   "outputs": [
    {
     "name": "stdout",
     "output_type": "stream",
     "text": [
      "             observation_id               submitted_time  gender  \\\n",
      "0      wmn_4503683847159808  2020-07-09 23:19:01.982 UTC  Female   \n",
      "4      wmn_4504181395423232  2020-07-11 18:43:35.954 UTC  Female   \n",
      "6      wmn_4504322055602176  2020-07-09 20:43:11.055 UTC  Female   \n",
      "8      wmn_4504469091123200  2020-07-16 16:03:44.066 UTC  Female   \n",
      "10     wmn_4504764873441280  2020-07-23 00:29:41.766 UTC  Female   \n",
      "...                     ...                          ...     ...   \n",
      "12344  wmn_6752309616050176  2020-07-11 14:37:07.551 UTC  Female   \n",
      "12346  wmn_6752968893530112  2020-07-14 05:19:46.429 UTC  Female   \n",
      "12348  wmn_6753897143336960   2020-07-10 11:49:14.64 UTC  Female   \n",
      "12352  wmn_6755256899993600   2020-07-11 16:09:09.78 UTC  Female   \n",
      "12353  wmn_6755376524689408  2020-07-17 03:19:00.388 UTC  Female   \n",
      "\n",
      "                      age                         geography  \\\n",
      "0      26 to 35 years old  City center or metropolitan area   \n",
      "4      26 to 35 years old               Suburban/Peri-urban   \n",
      "6      16 to 25 years old  City center or metropolitan area   \n",
      "8      36 to 45 years old  City center or metropolitan area   \n",
      "10     16 to 25 years old                             Rural   \n",
      "...                   ...                               ...   \n",
      "12344  26 to 35 years old  City center or metropolitan area   \n",
      "12346  16 to 25 years old  City center or metropolitan area   \n",
      "12348  26 to 35 years old               Suburban/Peri-urban   \n",
      "12352  36 to 45 years old                             Rural   \n",
      "12353  26 to 35 years old  City center or metropolitan area   \n",
      "\n",
      "                                     financial_situation  \\\n",
      "0              I cannot afford enough food for my family   \n",
      "4      I can afford food and regular expenses, and bu...   \n",
      "6      I can afford food and regular expenses, and bu...   \n",
      "8      I can afford food and regular expenses, but no...   \n",
      "10                   I can afford food, but nothing else   \n",
      "...                                                  ...   \n",
      "12344  I can comfortably afford food, clothes, and fu...   \n",
      "12346  I can afford food and regular expenses, and bu...   \n",
      "12348  I can afford food and regular expenses, but no...   \n",
      "12352  I can comfortably afford food, clothes, and fu...   \n",
      "12353  I can afford food and regular expenses, and bu...   \n",
      "\n",
      "                   education   employment_status          ethnicity  \\\n",
      "0      College or university          Unemployed            Mestizo   \n",
      "4      College or university  Employed full-time            African   \n",
      "6      College or university  Employed full-time            Tagalog   \n",
      "8      College or university  Employed part-time              Serer   \n",
      "10          Technical school  Employed full-time            Pashtun   \n",
      "...                      ...                 ...                ...   \n",
      "12344          Post graduate  Employed full-time            Mestizo   \n",
      "12346  Secondary/high school  Employed full-time  Prefer not to say   \n",
      "12348       Technical school  Employed full-time             Bisaya   \n",
      "12352  College or university       Self-employed               Thai   \n",
      "12353  Secondary/high school  Employed full-time            Mestizo   \n",
      "\n",
      "                   religion  ... wmn_pre_safe_place wmn_post_safe_place  \\\n",
      "0               Catholicism  ...                NaN                 NaN   \n",
      "4              Christianity  ...                NaN                 NaN   \n",
      "6              Christianity  ...                NaN                 NaN   \n",
      "8                    Muslim  ...                NaN                 NaN   \n",
      "10            Muslim (Shia)  ...                NaN                 NaN   \n",
      "...                     ...  ...                ...                 ...   \n",
      "12344           Catholicism  ...                NaN                 NaN   \n",
      "12346  Prefer Not To Answer  ...                NaN                 NaN   \n",
      "12348          Christianity  ...                NaN                 NaN   \n",
      "12352              Buddhism  ...                NaN                 NaN   \n",
      "12353           Catholicism  ...                NaN                 NaN   \n",
      "\n",
      "      wmn_safe_place_no_access wmn_safe_place_no_access_why wmn_pre_help  \\\n",
      "0                          NaN                          NaN          NaN   \n",
      "4                          NaN                          NaN          NaN   \n",
      "6                          NaN                          NaN          NaN   \n",
      "8                          NaN                          NaN          NaN   \n",
      "10                         NaN                          NaN          NaN   \n",
      "...                        ...                          ...          ...   \n",
      "12344                      NaN                          NaN           No   \n",
      "12346                      NaN                          NaN          NaN   \n",
      "12348                      NaN                          NaN          NaN   \n",
      "12352                      NaN                          NaN          NaN   \n",
      "12353                      NaN                          NaN          NaN   \n",
      "\n",
      "      wmn_post_help wmn_post_no_help wmn_no_help_why  \\\n",
      "0               NaN              NaN             NaN   \n",
      "4               NaN              NaN             NaN   \n",
      "6               NaN              NaN             NaN   \n",
      "8               NaN              NaN             NaN   \n",
      "10              NaN              NaN             NaN   \n",
      "...             ...              ...             ...   \n",
      "12344            No               No             NaN   \n",
      "12346           NaN              NaN             NaN   \n",
      "12348           NaN              NaN             NaN   \n",
      "12352           NaN              NaN             NaN   \n",
      "12353           NaN              NaN             NaN   \n",
      "\n",
      "                           country               user_id  \n",
      "0                          Ecuador  wmn_5900473574883328  \n",
      "4      United Republic of Tanzania  wmn_6215734184378368  \n",
      "6                      Philippines  wmn_5846766880817152  \n",
      "8                          Senegal  wmn_6660892420997120  \n",
      "10                     Afghanistan  wmn_5962315779538944  \n",
      "...                            ...                   ...  \n",
      "12344                     Colombia  wmn_6066645730066432  \n",
      "12346                     Colombia  wmn_5979825287462912  \n",
      "12348                  Philippines  wmn_6192783355543552  \n",
      "12352                     Thailand  wmn_6730228637892608  \n",
      "12353                      Ecuador  wmn_6585614141489152  \n",
      "\n",
      "[5426 rows x 46 columns]\n"
     ]
    }
   ],
   "source": [
    "# 14. przedstawi´c wyb´or wierszy z ramki danych pod warunkiem odno´snie\n",
    "#okre´slonej warto´sci kolumny\n",
    "print(df[df['wmn_con'].str.contains('Yes')])"
   ]
  },
  {
   "cell_type": "code",
   "execution_count": 16,
   "id": "b1cf9190-f64e-4bc6-a70d-585e3a36de3f",
   "metadata": {},
   "outputs": [
    {
     "name": "stdout",
     "output_type": "stream",
     "text": [
      "             observation_id               submitted_time  gender  \\\n",
      "4      wmn_4504181395423232  2020-07-11 18:43:35.954 UTC  Female   \n",
      "6      wmn_4504322055602176  2020-07-09 20:43:11.055 UTC  Female   \n",
      "8      wmn_4504469091123200  2020-07-16 16:03:44.066 UTC  Female   \n",
      "10     wmn_4504764873441280  2020-07-23 00:29:41.766 UTC  Female   \n",
      "13     wmn_4505544242233344    2020-07-10 01:19:58.4 UTC  Female   \n",
      "...                     ...                          ...     ...   \n",
      "12337  wmn_6750950024019968  2020-07-22 00:23:06.043 UTC  Female   \n",
      "12340  wmn_6751212218351616  2020-07-26 00:49:33.759 UTC  Female   \n",
      "12344  wmn_6752309616050176  2020-07-11 14:37:07.551 UTC  Female   \n",
      "12348  wmn_6753897143336960   2020-07-10 11:49:14.64 UTC  Female   \n",
      "12352  wmn_6755256899993600   2020-07-11 16:09:09.78 UTC  Female   \n",
      "\n",
      "                      age                         geography  \\\n",
      "4      26 to 35 years old               Suburban/Peri-urban   \n",
      "6      16 to 25 years old  City center or metropolitan area   \n",
      "8      36 to 45 years old  City center or metropolitan area   \n",
      "10     16 to 25 years old                             Rural   \n",
      "13     16 to 25 years old                             Rural   \n",
      "...                   ...                               ...   \n",
      "12337  16 to 25 years old               Suburban/Peri-urban   \n",
      "12340  16 to 25 years old               Suburban/Peri-urban   \n",
      "12344  26 to 35 years old  City center or metropolitan area   \n",
      "12348  26 to 35 years old               Suburban/Peri-urban   \n",
      "12352  36 to 45 years old                             Rural   \n",
      "\n",
      "                                     financial_situation  \\\n",
      "4      I can afford food and regular expenses, and bu...   \n",
      "6      I can afford food and regular expenses, and bu...   \n",
      "8      I can afford food and regular expenses, but no...   \n",
      "10                   I can afford food, but nothing else   \n",
      "13             I cannot afford enough food for my family   \n",
      "...                                                  ...   \n",
      "12337          I cannot afford enough food for my family   \n",
      "12340  I can afford food and regular expenses, but no...   \n",
      "12344  I can comfortably afford food, clothes, and fu...   \n",
      "12348  I can afford food and regular expenses, but no...   \n",
      "12352  I can comfortably afford food, clothes, and fu...   \n",
      "\n",
      "                   education   employment_status          ethnicity  \\\n",
      "4      College or university  Employed full-time            African   \n",
      "6      College or university  Employed full-time            Tagalog   \n",
      "8      College or university  Employed part-time              Serer   \n",
      "10          Technical school  Employed full-time            Pashtun   \n",
      "13     Secondary/high school             Student            Ilocano   \n",
      "...                      ...                 ...                ...   \n",
      "12337  College or university       Self-employed  None of the above   \n",
      "12340  College or university  Employed full-time              White   \n",
      "12344          Post graduate  Employed full-time            Mestizo   \n",
      "12348       Technical school  Employed full-time             Bisaya   \n",
      "12352  College or university       Self-employed               Thai   \n",
      "\n",
      "                   religion  ... wmn_pre_safe_place wmn_post_safe_place  \\\n",
      "4              Christianity  ...                NaN                 NaN   \n",
      "6              Christianity  ...                NaN                 NaN   \n",
      "8                    Muslim  ...                NaN                 NaN   \n",
      "10            Muslim (Shia)  ...                NaN                 NaN   \n",
      "13     Prefer Not To Answer  ...                NaN                 NaN   \n",
      "...                     ...  ...                ...                 ...   \n",
      "12337          Christianity  ...                NaN                 NaN   \n",
      "12340           Agnosticism  ...                NaN                 NaN   \n",
      "12344           Catholicism  ...                NaN                 NaN   \n",
      "12348          Christianity  ...                NaN                 NaN   \n",
      "12352              Buddhism  ...                NaN                 NaN   \n",
      "\n",
      "      wmn_safe_place_no_access wmn_safe_place_no_access_why  \\\n",
      "4                          NaN                          NaN   \n",
      "6                          NaN                          NaN   \n",
      "8                          NaN                          NaN   \n",
      "10                         NaN                          NaN   \n",
      "13                         NaN                          NaN   \n",
      "...                        ...                          ...   \n",
      "12337                      NaN                          NaN   \n",
      "12340                      NaN                          NaN   \n",
      "12344                      NaN                          NaN   \n",
      "12348                      NaN                          NaN   \n",
      "12352                      NaN                          NaN   \n",
      "\n",
      "             wmn_pre_help wmn_post_help wmn_post_no_help  \\\n",
      "4                     NaN           NaN              NaN   \n",
      "6                     NaN           NaN              NaN   \n",
      "8                     NaN           NaN              NaN   \n",
      "10                    NaN           NaN              NaN   \n",
      "13     Decline to respond            No              Yes   \n",
      "...                   ...           ...              ...   \n",
      "12337                  No            No              Yes   \n",
      "12340                 NaN           NaN              NaN   \n",
      "12344                  No            No               No   \n",
      "12348                 NaN           NaN              NaN   \n",
      "12352                 NaN           NaN              NaN   \n",
      "\n",
      "                                     wmn_no_help_why  \\\n",
      "4                                                NaN   \n",
      "6                                                NaN   \n",
      "8                                                NaN   \n",
      "10                                               NaN   \n",
      "13     Unable to travel due to COVID-19 restrictions   \n",
      "...                                              ...   \n",
      "12337                       Did not know where to go   \n",
      "12340                                            NaN   \n",
      "12344                                            NaN   \n",
      "12348                                            NaN   \n",
      "12352                                            NaN   \n",
      "\n",
      "                           country               user_id  \n",
      "4      United Republic of Tanzania  wmn_6215734184378368  \n",
      "6                      Philippines  wmn_5846766880817152  \n",
      "8                          Senegal  wmn_6660892420997120  \n",
      "10                     Afghanistan  wmn_5962315779538944  \n",
      "13                     Philippines  wmn_6297768996110336  \n",
      "...                            ...                   ...  \n",
      "12337                      Nigeria  wmn_4507016238465024  \n",
      "12340                        Chile  wmn_5663526413926400  \n",
      "12344                     Colombia  wmn_6066645730066432  \n",
      "12348                  Philippines  wmn_6192783355543552  \n",
      "12352                     Thailand  wmn_6730228637892608  \n",
      "\n",
      "[3421 rows x 46 columns]\n"
     ]
    }
   ],
   "source": [
    "# 15. przedstawi´c wyb´or wierszy z ramki danych pod warunkiem spe lnienia\n",
    "#kilku warunk´ow jednocze´snie\n",
    "print(df[(df['wmn_con'] == 'Yes') & (df['wmn_pregnancy_change'] == 'No')])\n"
   ]
  },
  {
   "cell_type": "code",
   "execution_count": 17,
   "id": "d85d252f-27f2-4a92-bb5f-9200b8d1442b",
   "metadata": {},
   "outputs": [
    {
     "name": "stdout",
     "output_type": "stream",
     "text": [
      "             observation_id               submitted_time  gender  \\\n",
      "0      wmn_4503683847159808  2020-07-09 23:19:01.982 UTC  Female   \n",
      "4      wmn_4504181395423232  2020-07-11 18:43:35.954 UTC  Female   \n",
      "6      wmn_4504322055602176  2020-07-09 20:43:11.055 UTC  Female   \n",
      "8      wmn_4504469091123200  2020-07-16 16:03:44.066 UTC  Female   \n",
      "10     wmn_4504764873441280  2020-07-23 00:29:41.766 UTC  Female   \n",
      "...                     ...                          ...     ...   \n",
      "12344  wmn_6752309616050176  2020-07-11 14:37:07.551 UTC  Female   \n",
      "12346  wmn_6752968893530112  2020-07-14 05:19:46.429 UTC  Female   \n",
      "12348  wmn_6753897143336960   2020-07-10 11:49:14.64 UTC  Female   \n",
      "12352  wmn_6755256899993600   2020-07-11 16:09:09.78 UTC  Female   \n",
      "12353  wmn_6755376524689408  2020-07-17 03:19:00.388 UTC  Female   \n",
      "\n",
      "                      age                         geography  \\\n",
      "0      26 to 35 years old  City center or metropolitan area   \n",
      "4      26 to 35 years old               Suburban/Peri-urban   \n",
      "6      16 to 25 years old  City center or metropolitan area   \n",
      "8      36 to 45 years old  City center or metropolitan area   \n",
      "10     16 to 25 years old                             Rural   \n",
      "...                   ...                               ...   \n",
      "12344  26 to 35 years old  City center or metropolitan area   \n",
      "12346  16 to 25 years old  City center or metropolitan area   \n",
      "12348  26 to 35 years old               Suburban/Peri-urban   \n",
      "12352  36 to 45 years old                             Rural   \n",
      "12353  26 to 35 years old  City center or metropolitan area   \n",
      "\n",
      "                                     financial_situation  \\\n",
      "0              I cannot afford enough food for my family   \n",
      "4      I can afford food and regular expenses, and bu...   \n",
      "6      I can afford food and regular expenses, and bu...   \n",
      "8      I can afford food and regular expenses, but no...   \n",
      "10                   I can afford food, but nothing else   \n",
      "...                                                  ...   \n",
      "12344  I can comfortably afford food, clothes, and fu...   \n",
      "12346  I can afford food and regular expenses, and bu...   \n",
      "12348  I can afford food and regular expenses, but no...   \n",
      "12352  I can comfortably afford food, clothes, and fu...   \n",
      "12353  I can afford food and regular expenses, and bu...   \n",
      "\n",
      "                   education   employment_status          ethnicity  \\\n",
      "0      College or university          Unemployed            Mestizo   \n",
      "4      College or university  Employed full-time            African   \n",
      "6      College or university  Employed full-time            Tagalog   \n",
      "8      College or university  Employed part-time              Serer   \n",
      "10          Technical school  Employed full-time            Pashtun   \n",
      "...                      ...                 ...                ...   \n",
      "12344          Post graduate  Employed full-time            Mestizo   \n",
      "12346  Secondary/high school  Employed full-time  Prefer not to say   \n",
      "12348       Technical school  Employed full-time             Bisaya   \n",
      "12352  College or university       Self-employed               Thai   \n",
      "12353  Secondary/high school  Employed full-time            Mestizo   \n",
      "\n",
      "                   religion  ... wmn_pre_safe_place wmn_post_safe_place  \\\n",
      "0               Catholicism  ...                NaN                 NaN   \n",
      "4              Christianity  ...                NaN                 NaN   \n",
      "6              Christianity  ...                NaN                 NaN   \n",
      "8                    Muslim  ...                NaN                 NaN   \n",
      "10            Muslim (Shia)  ...                NaN                 NaN   \n",
      "...                     ...  ...                ...                 ...   \n",
      "12344           Catholicism  ...                NaN                 NaN   \n",
      "12346  Prefer Not To Answer  ...                NaN                 NaN   \n",
      "12348          Christianity  ...                NaN                 NaN   \n",
      "12352              Buddhism  ...                NaN                 NaN   \n",
      "12353           Catholicism  ...                NaN                 NaN   \n",
      "\n",
      "      wmn_safe_place_no_access wmn_safe_place_no_access_why wmn_pre_help  \\\n",
      "0                          NaN                          NaN          NaN   \n",
      "4                          NaN                          NaN          NaN   \n",
      "6                          NaN                          NaN          NaN   \n",
      "8                          NaN                          NaN          NaN   \n",
      "10                         NaN                          NaN          NaN   \n",
      "...                        ...                          ...          ...   \n",
      "12344                      NaN                          NaN           No   \n",
      "12346                      NaN                          NaN          NaN   \n",
      "12348                      NaN                          NaN          NaN   \n",
      "12352                      NaN                          NaN          NaN   \n",
      "12353                      NaN                          NaN          NaN   \n",
      "\n",
      "      wmn_post_help wmn_post_no_help wmn_no_help_why  \\\n",
      "0               NaN              NaN             NaN   \n",
      "4               NaN              NaN             NaN   \n",
      "6               NaN              NaN             NaN   \n",
      "8               NaN              NaN             NaN   \n",
      "10              NaN              NaN             NaN   \n",
      "...             ...              ...             ...   \n",
      "12344            No               No             NaN   \n",
      "12346           NaN              NaN             NaN   \n",
      "12348           NaN              NaN             NaN   \n",
      "12352           NaN              NaN             NaN   \n",
      "12353           NaN              NaN             NaN   \n",
      "\n",
      "                           country               user_id  \n",
      "0                          Ecuador  wmn_5900473574883328  \n",
      "4      United Republic of Tanzania  wmn_6215734184378368  \n",
      "6                      Philippines  wmn_5846766880817152  \n",
      "8                          Senegal  wmn_6660892420997120  \n",
      "10                     Afghanistan  wmn_5962315779538944  \n",
      "...                            ...                   ...  \n",
      "12344                     Colombia  wmn_6066645730066432  \n",
      "12346                     Colombia  wmn_5979825287462912  \n",
      "12348                  Philippines  wmn_6192783355543552  \n",
      "12352                     Thailand  wmn_6730228637892608  \n",
      "12353                      Ecuador  wmn_6585614141489152  \n",
      "\n",
      "[5426 rows x 46 columns]\n"
     ]
    }
   ],
   "source": [
    "# 16. wybra´c wiersze kt´ore zawieraja˛ w kolumnie kategoryzowanej okre´slones lowo\n",
    "print(df[df['wmn_con'].str.contains('Yes')])"
   ]
  },
  {
   "cell_type": "code",
   "execution_count": 18,
   "id": "9ea40748-4587-497b-adb3-49f866d1a697",
   "metadata": {},
   "outputs": [],
   "source": [
    "# 17. utw´orz kolumne˛ na podstawie istnieja˛cyn\n",
    "df['Age_in_5_years'] = df['age'] + '+ 5'"
   ]
  },
  {
   "cell_type": "code",
   "execution_count": 19,
   "id": "93d5b5de-cbad-4bd2-a0ae-4f2b21cb245a",
   "metadata": {},
   "outputs": [],
   "source": [
    "# 18.  usu´n kolumne˛\n",
    "df.drop(columns=['Age_in_5_years'], inplace=True)"
   ]
  },
  {
   "cell_type": "code",
   "execution_count": 20,
   "id": "e7502af4-0846-4ce8-852c-619d4eee73e1",
   "metadata": {},
   "outputs": [],
   "source": [
    "# 19.  zmie´n nazwe˛ kolumny\n",
    "df.rename(columns={'gender': 'trugender'}, inplace=True)"
   ]
  },
  {
   "cell_type": "code",
   "execution_count": 21,
   "id": "8adc4359-5321-428e-8448-13ec3233ded7",
   "metadata": {},
   "outputs": [],
   "source": [
    "# 20. zachowaj ramke˛ danych jako plik csv na komputerze\n",
    "df.to_csv('new_data.csv', index=False)"
   ]
  },
  {
   "cell_type": "code",
   "execution_count": 22,
   "id": "3bdfd824-2a66-4800-a830-d85e95da8b2f",
   "metadata": {},
   "outputs": [
    {
     "name": "stdout",
     "output_type": "stream",
     "text": [
      "34.333333333333336\n",
      "45\n",
      "23\n"
     ]
    }
   ],
   "source": [
    "# 21. wy´swietli´c ´srednia (maksymalna˛, minimalna˛) warto´s´c z jednej kolumny\n",
    "print(df1['Age'].mean())\n",
    "print(df1['Age'].max())\n",
    "print(df1['Age'].min())"
   ]
  },
  {
   "cell_type": "code",
   "execution_count": 23,
   "id": "17752728-4469-4c0f-af51-ea84465d9e8c",
   "metadata": {},
   "outputs": [
    {
     "name": "stdout",
     "output_type": "stream",
     "text": [
      "12354\n"
     ]
    }
   ],
   "source": [
    "# 22. wy´swietli´c liczbe˛ wierszy\n",
    "print(len(df))"
   ]
  },
  {
   "cell_type": "code",
   "execution_count": 24,
   "id": "5af62018-3d73-4b5e-8881-b937b6b80834",
   "metadata": {},
   "outputs": [
    {
     "name": "stdout",
     "output_type": "stream",
     "text": [
      "['Female' 'Prefer not to answer' 'Not Available']\n"
     ]
    }
   ],
   "source": [
    "# 23. wy´swietli´c warto´sci unikatowe w kolumnie\n",
    "print(df['trugender'].unique())"
   ]
  },
  {
   "cell_type": "code",
   "execution_count": 25,
   "id": "2517e1c4-4a28-4999-9965-d21658ed5560",
   "metadata": {},
   "outputs": [
    {
     "name": "stdout",
     "output_type": "stream",
     "text": [
      "trugender\n",
      "Female                  12331\n",
      "Prefer not to answer       15\n",
      "Not Available               8\n",
      "Name: count, dtype: int64\n"
     ]
    }
   ],
   "source": [
    "# 24. wy´swietli´c liczby rekord´ow odpowiadaja˛cych do warto´sci\n",
    "print(df['trugender'].value_counts())"
   ]
  },
  {
   "cell_type": "code",
   "execution_count": 26,
   "id": "3d70b582-bad4-46a1-bd46-84c52f63ed75",
   "metadata": {},
   "outputs": [],
   "source": [
    "# 25. • sortowanie wierszy ramki danych wed lug warto´sci okre´slonej kolumny\n",
    "#(maleja˛co, rosna˛co)\n",
    "df_sorted = df1.sort_values(by='Age', ascending=True)\n",
    "df_sorted_desc = df1.sort_values(by='Age', ascending=False)"
   ]
  },
  {
   "cell_type": "code",
   "execution_count": 27,
   "id": "e606a152-f4cf-4688-82fc-3af308e808a6",
   "metadata": {},
   "outputs": [
    {
     "name": "stdout",
     "output_type": "stream",
     "text": [
      "      Name  Age    City\n",
      "2  Charles   45   Paris\n",
      "1      Bob   35  Berlin\n",
      "0     Anna   23  Warsaw\n",
      "      Name  Age    City\n",
      "0     Anna   23  Warsaw\n",
      "1      Bob   35  Berlin\n",
      "2  Charles   45   Paris\n"
     ]
    }
   ],
   "source": [
    "# 26. wy´swietli´c wierszy dla 10 najwie˛kszych (najmniejszych) warto´sci okre´slonej kolumny\n",
    "print(df1.nlargest(10, 'Age'))\n",
    "print(df1.nsmallest(10, 'Age'))"
   ]
  },
  {
   "cell_type": "code",
   "execution_count": 28,
   "id": "a6d392b2-f721-4c5f-a46c-e36db1596d96",
   "metadata": {},
   "outputs": [
    {
     "name": "stdout",
     "output_type": "stream",
     "text": [
      "  Name  Age    City\n",
      "1  Bob   35  Berlin\n"
     ]
    }
   ],
   "source": [
    "# 27. wy´swietli´c wierszy dla 10 najwie˛kszych warto´sci okre´slonej kolumny\n",
    "#pod warunkiem okre´slonych warto´sci innej kolumny\n",
    "print(df1[df1['City'] == 'Berlin'].nlargest(10, 'Age'))"
   ]
  },
  {
   "cell_type": "code",
   "execution_count": 29,
   "id": "6e0e9310-e33c-4a8c-b3f9-82eab5ea8697",
   "metadata": {},
   "outputs": [
    {
     "name": "stdout",
     "output_type": "stream",
     "text": [
      "         Age\n",
      "City        \n",
      "Berlin  35.0\n",
      "Paris   45.0\n",
      "Warsaw  23.0\n"
     ]
    }
   ],
   "source": [
    "# 28. grupowanie wierszy wedlug warto´sci kolumny kategoryzowanej, potem\n",
    "#- u´srednienie warto´sci wszystkich kolumn w grupie - MultiIndex\n",
    "grouped = df1.groupby('City').mean(numeric_only=True)  # Use numeric_only=True to avoid issues with non-numeric columns\n",
    "print(grouped)"
   ]
  },
  {
   "cell_type": "code",
   "execution_count": 30,
   "id": "28744c96-bd2a-4f8a-b3b8-a991ba7eb3e0",
   "metadata": {},
   "outputs": [
    {
     "name": "stdout",
     "output_type": "stream",
     "text": [
      "         Age           Name\n",
      "        mean count      max\n",
      "City                       \n",
      "Berlin  35.0     1      Bob\n",
      "Paris   45.0     1  Charles\n",
      "Warsaw  23.0     1     Anna\n"
     ]
    }
   ],
   "source": [
    "# 29. grupowanie wierszy wedlug warto´sci kolumny kategoryzowanej, potem\n",
    "#- u´srednienie warto´sci dla pewnych kolumn, liczba warto´sci i mediana\n",
    "#dla pozosta lych kolumn w grupach\n",
    "grouped_agg = df1.groupby('City').agg({\n",
    "    'Age': ['mean', 'count'],\n",
    "    'Name': ['max']\n",
    "})\n",
    "print(grouped_agg)"
   ]
  },
  {
   "cell_type": "code",
   "execution_count": 31,
   "id": "bfe9abbc-f0be-43d2-9c34-351c794182e1",
   "metadata": {},
   "outputs": [
    {
     "name": "stdout",
     "output_type": "stream",
     "text": [
      "MultiIndex([( 'Age',  'mean'),\n",
      "            ( 'Age', 'count'),\n",
      "            ('Name',   'max')],\n",
      "           )\n"
     ]
    }
   ],
   "source": [
    "# 30. wy´swietli´c nazwy kolumn indeksu z lo˙zonego\n",
    "print(grouped_agg.columns)"
   ]
  },
  {
   "cell_type": "code",
   "execution_count": 32,
   "id": "6da6d8cd-6428-4793-b9eb-81949a35ea5d",
   "metadata": {},
   "outputs": [
    {
     "name": "stdout",
     "output_type": "stream",
     "text": [
      "         Age           Name\n",
      "       count  mean      max\n",
      "City                       \n",
      "Berlin     1  35.0      Bob\n",
      "Paris      1  45.0  Charles\n",
      "Warsaw     1  23.0     Anna\n"
     ]
    }
   ],
   "source": [
    "# 31. • sortowa´c kolumne˛ indeksu z lo˙zonego\n",
    "grouped_agg = grouped_agg.sort_index(axis=1)\n",
    "print(grouped_agg)"
   ]
  },
  {
   "cell_type": "code",
   "execution_count": 33,
   "id": "6dd4ce0f-6d8d-4d5f-8bfc-13cd4ca76093",
   "metadata": {},
   "outputs": [
    {
     "name": "stdout",
     "output_type": "stream",
     "text": [
      "         Age\n",
      "City        \n",
      "Berlin  35.0\n",
      "Paris   45.0\n",
      "Warsaw  23.0\n"
     ]
    }
   ],
   "source": [
    "# 32. stworzy´c tabele˛ przystawna˛ (pivot table) na podstawie ramki danych\n",
    "pivot = df1.pivot_table(values='Age', index='City', aggfunc='mean')\n",
    "print(pivot)"
   ]
  },
  {
   "cell_type": "code",
   "execution_count": 34,
   "id": "769930b1-efa3-4109-b906-ad550a534ab3",
   "metadata": {},
   "outputs": [
    {
     "name": "stdout",
     "output_type": "stream",
     "text": [
      "Index(['Berlin', 'Paris', 'Warsaw'], dtype='object', name='City')\n",
      "Index(['Age'], dtype='object')\n"
     ]
    }
   ],
   "source": [
    "# 33. wy´swietli´c indeksy i kolumny tabeli przystawnej\n",
    "print(pivot.index)\n",
    "print(pivot.columns)"
   ]
  },
  {
   "cell_type": "code",
   "execution_count": 35,
   "id": "76386699-d71e-4288-b456-20bf2cbd8cdb",
   "metadata": {},
   "outputs": [
    {
     "name": "stdout",
     "output_type": "stream",
     "text": [
      "                 Age\n",
      "City   Name         \n",
      "Berlin Bob      35.0\n",
      "Paris  Charles  45.0\n",
      "Warsaw Anna     23.0\n"
     ]
    }
   ],
   "source": [
    "# 34.  utw´orz indeks z lo˙zony tabeli przystawnej i wy´swietl go\n",
    "pivot_multi = df1.pivot_table(values='Age', index=['City', 'Name'], aggfunc='mean')\n",
    "print(pivot_multi)"
   ]
  },
  {
   "cell_type": "code",
   "execution_count": null,
   "id": "6e30e213-c698-43f1-b5f0-d88eee769891",
   "metadata": {},
   "outputs": [],
   "source": [
    "# 37. wy´swietli´c wykres na podstawie tabeli przystawnej\n",
    "pivot.plot(kind='bar')\n",
    "plt.show()"
   ]
  },
  {
   "cell_type": "code",
   "execution_count": null,
   "id": "92be7813-ec2e-4e7b-a392-599685ef15b4",
   "metadata": {},
   "outputs": [],
   "source": [
    "# 38. narysowa´c histogram na podstawie warto´sci kolumny\n",
    "df1['Age'].plot(kind='hist')\n",
    "plt.show()"
   ]
  },
  {
   "cell_type": "code",
   "execution_count": null,
   "id": "08d4bfe3-f279-43a8-8cf7-e2af09ffdd8c",
   "metadata": {},
   "outputs": [],
   "source": [
    "# 39. przedstawi´c sposoby la˛czenia ramek danych za pomoca˛ metod merge i\n",
    "#concat\n",
    "df3 = pd.DataFrame({'Name': ['Anna', 'Bob'], 'Salary': [5000, 6000]})\n",
    "merged_df = pd.merge(df1, df3, on='Name')\n",
    "concatenated_df = pd.concat([df1, df3], axis=1)"
   ]
  },
  {
   "cell_type": "code",
   "execution_count": null,
   "id": "a7d1c2ac-e4da-44b8-a2a5-2b79c3fba69b",
   "metadata": {},
   "outputs": [],
   "source": [
    "# 40. pokaza´c dodawanie nowych kolumn za pomoca˛ operacji matematycznych\n",
    "df1['Double Age'] = df1['Age'] * 2"
   ]
  },
  {
   "cell_type": "code",
   "execution_count": null,
   "id": "849abee6-f694-4641-9a62-3d2a7eb98be3",
   "metadata": {},
   "outputs": [],
   "source": [
    "# 41. przedstawi´c na przyk ladzie dodawanie nowych kolumn z pomoca˛ funkcji lambda\n",
    "df1['Age Squared'] = df1['Age'].apply(lambda x: x**2)"
   ]
  },
  {
   "cell_type": "code",
   "execution_count": null,
   "id": "6e09f532-b597-4940-b56c-3cb48e6e6b46",
   "metadata": {},
   "outputs": [],
   "source": [
    "# 42. • przedstawi´c mo˙zliwo´sci pracy z du˙zymi plikami przy u˙zyciu argumentu chunksize\n",
    "chunk_size = 10000"
   ]
  },
  {
   "cell_type": "code",
   "execution_count": null,
   "id": "1dd1c5f2-c369-4675-87bb-a92ac7fef4fd",
   "metadata": {},
   "outputs": [],
   "source": []
  }
 ],
 "metadata": {
  "kernelspec": {
   "display_name": "Python 3 (ipykernel)",
   "language": "python",
   "name": "python3"
  },
  "language_info": {
   "codemirror_mode": {
    "name": "ipython",
    "version": 3
   },
   "file_extension": ".py",
   "mimetype": "text/x-python",
   "name": "python",
   "nbconvert_exporter": "python",
   "pygments_lexer": "ipython3",
   "version": "3.12.7"
  }
 },
 "nbformat": 4,
 "nbformat_minor": 5
}
